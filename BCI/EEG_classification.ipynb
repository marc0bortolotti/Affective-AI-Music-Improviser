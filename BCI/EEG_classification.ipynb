{
 "cells": [
  {
   "cell_type": "code",
   "execution_count": 112,
   "metadata": {
    "ExecuteTime": {
     "end_time": "2024-03-04T10:43:45.637365500Z",
     "start_time": "2024-03-04T10:43:45.601530600Z"
    },
    "collapsed": false
   },
   "outputs": [],
   "source": [
    "import pandas as pd\n",
    "import numpy as np\n",
    "import os\n",
    "import matplotlib.pyplot as plt\n",
    "from mne import Epochs, find_events, concatenate_epochs\n",
    "from utils.loader import load_data, unicorn_fs, convert_to_mne, unicorn_eeg_channels\n",
    "import mne\n",
    "from sklearn.discriminant_analysis import LinearDiscriminantAnalysis\n",
    "from sklearn.preprocessing import StandardScaler\n",
    "import pickle\n",
    "from imblearn.over_sampling import RandomOverSampler\n",
    "from imblearn.under_sampling import RandomUnderSampler\n",
    "from sklearn.model_selection import train_test_split\n",
    "from sklearn.metrics import accuracy_score\n",
    "from sklearn.model_selection import cross_val_score\n",
    "from sklearn.model_selection import StratifiedKFold\n",
    "from sklearn.metrics import f1_score\n",
    "from utils.validation import plot_feature_vector, plot_confusion_matrix, plot_cross_validated_confusion_matrix, plot_data_distribution\n",
    "\n",
    "mne.set_log_level(verbose='ERROR', return_old_level=False, add_frames=None)\n",
    "\n",
    "%matplotlib inline\n",
    "#matplotlib.use(\"Qt5Agg\")\n",
    "\n",
    "path_dataset = 'data/dataset/listening'\n",
    "labels = ['relax', 'excited']"
   ]
  },
  {
   "cell_type": "markdown",
   "metadata": {},
   "source": [
    "### Preprocessing\n",
    "\n",
    "1. Read Data\n",
    "2. Generate Samples \n",
    "3. Extract Bands\n",
    "4. Extract Features\n",
    "5. Subtract Baseline "
   ]
  },
  {
   "cell_type": "markdown",
   "metadata": {},
   "source": [
    "##### 1. Read Data"
   ]
  },
  {
   "cell_type": "code",
   "execution_count": 98,
   "metadata": {},
   "outputs": [],
   "source": [
    "# Baseline\n",
    "path_folder = os.path.join(path_dataset, 'baseline')\n",
    "files = [f for f in os.listdir(path_folder) if f.endswith('.csv')]\n",
    "path_file = os.path.join(path_folder, files[0])\n",
    "eeg_baseline = load_data(path_file, header=False, fs=unicorn_fs, names = unicorn_eeg_channels)[0]\n",
    "\n",
    "\n",
    "# Relax\n",
    "path_folder = os.path.join(path_dataset, 'relax')\n",
    "files = [f for f in os.listdir(path_folder) if f.endswith('.csv')]\n",
    "path_file = os.path.join(path_folder, files[0])\n",
    "eeg_relax = load_data(path_file, header=False, fs=unicorn_fs, names = unicorn_eeg_channels)[0]\n",
    "\n",
    "# Excited\n",
    "path_folder = os.path.join(path_dataset, 'excited')\n",
    "files = [f for f in os.listdir(path_folder) if f.endswith('.csv')]\n",
    "path_file = os.path.join(path_folder, files[0])\n",
    "eeg_excited = load_data(path_file, header=False, fs=unicorn_fs, names = unicorn_eeg_channels)[0]"
   ]
  },
  {
   "cell_type": "markdown",
   "metadata": {},
   "source": [
    "##### 2. Generate Samples\n",
    "\n",
    "The recording is divided in samples of duration 'window_duration' with an overlap percentage of 'window_overlap'"
   ]
  },
  {
   "cell_type": "code",
   "execution_count": 99,
   "metadata": {},
   "outputs": [
    {
     "name": "stdout",
     "output_type": "stream",
     "text": [
      "Sample dimension: (1000, 8)\n",
      "Baseline samples: 170\n",
      "Relax samples: 470\n",
      "Excited samples: 460\n"
     ]
    }
   ],
   "source": [
    "window_duration = 4 # seconds\n",
    "window_size = window_duration * unicorn_fs # samples\n",
    "window_overlap = 0.875 # percentage\n",
    "\n",
    "# Baseline\n",
    "eeg_baseline_samples = []\n",
    "for i in range(0, len(eeg_baseline), int(window_size * (1 - window_overlap))):\n",
    "    eeg_baseline_samples.append(eeg_baseline[i:i + window_size])\n",
    "\n",
    "# Relax\n",
    "eeg_relax_samples = []\n",
    "for i in range(0, len(eeg_relax), int(window_size * (1 - window_overlap))):\n",
    "    eeg_relax_samples.append(eeg_relax[i:i + window_size])\n",
    "\n",
    "# Excited\n",
    "eeg_excited_samples = []\n",
    "for i in range(0, len(eeg_excited), int(window_size * (1 - window_overlap))):\n",
    "    eeg_excited_samples.append(eeg_excited[i:i + window_size])\n",
    "\n",
    "print('Sample dimension:', eeg_baseline_samples[0].shape)\n",
    "print('Baseline samples:', len(eeg_baseline_samples))\n",
    "print('Relax samples:', len(eeg_relax_samples))\n",
    "print('Excited samples:', len(eeg_excited_samples))\n"
   ]
  },
  {
   "cell_type": "markdown",
   "metadata": {},
   "source": [
    "##### 3. Extract Bands\n",
    "- theta (4-7 Hz)\n",
    "- alpha (8-13 Hz) \n",
    "- low beta (14-21 Hz)\n",
    "- high beta (22-29 Hz) \n",
    "- gamma (30-47 Hz)"
   ]
  },
  {
   "cell_type": "code",
   "execution_count": 100,
   "metadata": {},
   "outputs": [],
   "source": [
    "def apply_filters(eeg):\n",
    "\n",
    "    trigger = np.zeros(len(eeg))\n",
    "    raw_data = convert_to_mne(eeg, trigger, fs=unicorn_fs, chs=unicorn_eeg_channels, recompute=False) \n",
    "    raw_data.notch_filter(50) \n",
    "    raw_data.notch_filter(60) \n",
    "    \n",
    "    filtered_theta = raw_data.copy() \n",
    "    filtered_theta.filter(4, 7)\n",
    "\n",
    "    filtered_alpha = raw_data.copy()\n",
    "    filtered_alpha.filter(8, 13)\n",
    "\n",
    "    filtered_low_beta = raw_data.copy()\n",
    "    filtered_low_beta.filter(14, 17)\n",
    "\n",
    "    filtered_high_beta = raw_data.copy()\n",
    "    filtered_high_beta.filter(22, 29)\n",
    "\n",
    "    filtered_gamma = raw_data.copy()\n",
    "    filtered_gamma.filter(30, 47)\n",
    "\n",
    "    filtered_sample = [filtered_theta.get_data()[0:8,:]*1e6, # without the STI channel and rescaled to microvolts\n",
    "                       filtered_alpha.get_data()[0:8,:]*1e6, \n",
    "                       filtered_low_beta.get_data()[0:8,:]*1e6, \n",
    "                       filtered_high_beta.get_data()[0:8,:]*1e6, \n",
    "                       filtered_gamma.get_data()[0:8,:]*1e6]\n",
    "    \n",
    "    return np.array(filtered_sample)\n"
   ]
  },
  {
   "cell_type": "code",
   "execution_count": 101,
   "metadata": {},
   "outputs": [
    {
     "name": "stdout",
     "output_type": "stream",
     "text": [
      "Processing baseline sample: 170/170\n",
      "Processing relax sample: 470/470\n",
      "Processing excited sample: 460/460\n",
      "Finished processing samples\n"
     ]
    }
   ],
   "source": [
    "filtered_baseline_samples = []\n",
    "for i in range(len(eeg_baseline_samples)):\n",
    "    print(f'Processing baseline sample: {i+1}/{len(eeg_baseline_samples)}', end='\\r')\n",
    "    sample = eeg_baseline_samples[i]\n",
    "    filtered_baseline_samples.append(apply_filters(sample))\n",
    "print()\n",
    "\n",
    "filtered_relax_samples = []\n",
    "for i in range(len(eeg_relax_samples)):\n",
    "    print(f'Processing relax sample: {i+1}/{len(eeg_relax_samples)}', end='\\r')\n",
    "    sample = eeg_relax_samples[i]\n",
    "    filtered_relax_samples.append(apply_filters(sample))\n",
    "print()\n",
    "\n",
    "filtered_excited_samples = []\n",
    "for i in range(len(eeg_excited_samples)):\n",
    "    print(f'Processing excited sample: {i+1}/{len(eeg_excited_samples)}', end='\\r')\n",
    "    sample = eeg_excited_samples[i]\n",
    "    filtered_excited_samples.append(apply_filters(sample))\n",
    "\n",
    "print('\\nFinished processing samples')"
   ]
  },
  {
   "cell_type": "markdown",
   "metadata": {},
   "source": [
    "##### 4. Feature Extraction\n",
    "\n",
    "For each sample, for each band (5), for each channel (8), compute the log-variance on the signal.\n",
    "In total we obtain 5*8 = 40 features for each sample\n"
   ]
  },
  {
   "cell_type": "code",
   "execution_count": 102,
   "metadata": {},
   "outputs": [],
   "source": [
    "def log_var_transform(samples):\n",
    "    log_var_samples = []\n",
    "    for i in range(len(samples)):\n",
    "        sample = samples[i]\n",
    "        # reshape to (bands, channels, samples) \n",
    "        sample = np.transpose(sample, (0, 1, 2))\n",
    "        # calculate the log-variance\n",
    "        log_var_sample = np.log(np.var(sample, axis=2))\n",
    "        # flatten to one dimension\n",
    "        log_var_sample = log_var_sample.flatten()\n",
    "        log_var_samples.append(log_var_sample)\n",
    "    return np.array(log_var_samples)"
   ]
  },
  {
   "cell_type": "code",
   "execution_count": 103,
   "metadata": {},
   "outputs": [
    {
     "name": "stdout",
     "output_type": "stream",
     "text": [
      "Log var baseline samples: (170, 40)\n",
      "Log var relax samples: (470, 40)\n",
      "Log var excited samples: (460, 40)\n"
     ]
    }
   ],
   "source": [
    "features_baseline_samples = log_var_transform(filtered_baseline_samples)\n",
    "features_relax_samples = log_var_transform(filtered_relax_samples)\n",
    "features_excited_samples = log_var_transform(filtered_excited_samples)\n",
    "\n",
    "print('Log var baseline samples:', features_baseline_samples.shape)\n",
    "print('Log var relax samples:', features_relax_samples.shape)\n",
    "print('Log var excited samples:', features_excited_samples.shape)"
   ]
  },
  {
   "cell_type": "markdown",
   "metadata": {},
   "source": [
    "##### 5. Baseline Subtruction\n"
   ]
  },
  {
   "cell_type": "code",
   "execution_count": 104,
   "metadata": {},
   "outputs": [
    {
     "name": "stdout",
     "output_type": "stream",
     "text": [
      "Baseline: (40,)\n",
      "Diff relax: (470, 40)\n",
      "Diff excited: (460, 40)\n"
     ]
    }
   ],
   "source": [
    "# avarage baseline samples to get a single baseline vector\n",
    "baseline = np.mean(features_baseline_samples, axis=0)\n",
    "\n",
    "# calculate the difference between the baseline and the relax/excited samples\n",
    "diff_relax = features_relax_samples - baseline\n",
    "diff_excited = features_excited_samples - baseline\n",
    "\n",
    "print('Baseline:', baseline.shape)\n",
    "print('Diff relax:', diff_relax.shape)\n",
    "print('Diff excited:', diff_excited.shape)"
   ]
  },
  {
   "cell_type": "markdown",
   "metadata": {},
   "source": [
    "#### Linear Discriminant Analysis (LDA)\n",
    "\n",
    "At this step, classification of the data is made by using the LDA"
   ]
  },
  {
   "cell_type": "code",
   "execution_count": 105,
   "metadata": {},
   "outputs": [
    {
     "name": "stdout",
     "output_type": "stream",
     "text": [
      "(930, 40) (930,)\n"
     ]
    }
   ],
   "source": [
    "X = np.vstack((diff_relax, diff_excited))\n",
    "y = np.hstack((np.zeros(len(diff_relax)), np.ones(len(diff_excited))))\n",
    "\n",
    "print(X.shape, y.shape)"
   ]
  },
  {
   "cell_type": "code",
   "execution_count": 106,
   "metadata": {},
   "outputs": [
    {
     "name": "stdout",
     "output_type": "stream",
     "text": [
      "(744, 40) (186, 40) (744,) (186,)\n"
     ]
    }
   ],
   "source": [
    "# Split the data into training and testing sets\n",
    "X_train, X_test, y_train, y_test = train_test_split(X, y, test_size=0.2, random_state=33)\n",
    "print(X_train.shape, X_test.shape, y_train.shape, y_test.shape)"
   ]
  },
  {
   "cell_type": "code",
   "execution_count": 114,
   "metadata": {},
   "outputs": [
    {
     "name": "stdout",
     "output_type": "stream",
     "text": [
      "Accuracy: 0.96 F1 Score: 0.96\n"
     ]
    },
    {
     "data": {
      "image/png": "[encoded data removed]",
      "text/plain": [
       "<Figure size 800x800 with 2 Axes>"
      ]
     },
     "metadata": {},
     "output_type": "display_data"
    }
   ],
   "source": [
    "scaler = StandardScaler()\n",
    "X_train = scaler.fit_transform(X_train)\n",
    "X_test = scaler.transform(X_test) \n",
    "\n",
    "\n",
    "# Apply LDA\n",
    "model = LinearDiscriminantAnalysis()\n",
    "model.fit(X_train, y_train)\n",
    "\n",
    "# Save the model\n",
    "outfile = 'models/lda_model.pkl'\n",
    "with open(outfile, 'wb') as pickle_file:\n",
    "    pickle.dump(model, pickle_file)\n",
    "\n",
    "\n",
    "# Make predictions on the test set\n",
    "y_pred = model.predict(X_test)\n",
    "\n",
    "# Calculate accuracy\n",
    "accuracy = accuracy_score(y_test, y_pred)\n",
    "f1 = f1_score(y_test, y_pred, average='binary')\n",
    "\n",
    "print(f'Accuracy: {accuracy:.2f} F1 Score: {f1:.2f}')\n",
    "plot_confusion_matrix(y_test, y_pred, classes=labels, normalize=True)\n"
   ]
  },
  {
   "cell_type": "code",
   "execution_count": 115,
   "metadata": {},
   "outputs": [
    {
     "name": "stdout",
     "output_type": "stream",
     "text": [
      "Accuracy: 0.97 F1 Score: 0.97\n"
     ]
    },
    {
     "data": {
      "image/png": "[encoded data removed]",
      "text/plain": [
       "<Figure size 800x800 with 2 Axes>"
      ]
     },
     "metadata": {},
     "output_type": "display_data"
    }
   ],
   "source": [
    "# SVM\n",
    "from sklearn import svm\n",
    "model = svm.SVC()\n",
    "model.fit(X_train, y_train)\n",
    "y_pred = model.predict(X_test)\n",
    "\n",
    "# save the model\n",
    "outfile = 'models/svm_model.pkl'\n",
    "with open(outfile, 'wb') as pickle_file:\n",
    "    pickle.dump(model, pickle_file)\n",
    "\n",
    "# Calculate accuracy\n",
    "accuracy = accuracy_score(y_test, y_pred)\n",
    "f1 = f1_score(y_test, y_pred, average='binary')\n",
    "\n",
    "print(f'Accuracy: {accuracy:.2f} F1 Score: {f1:.2f}')\n",
    "plot_confusion_matrix(y_test, y_pred, classes=labels, normalize=True)"
   ]
  },
  {
   "cell_type": "code",
   "execution_count": 111,
   "metadata": {},
   "outputs": [
    {
     "name": "stdout",
     "output_type": "stream",
     "text": [
      "Cross-validated accuracy: 0.96 (+/- 0.02) F1-Score: 0.96\n"
     ]
    },
    {
     "data": {
      "image/png": "[encoded data removed]",
      "text/plain": [
       "<Figure size 800x800 with 2 Axes>"
      ]
     },
     "metadata": {},
     "output_type": "display_data"
    }
   ],
   "source": [
    "scaler = StandardScaler()\n",
    "X_rescaled = scaler.fit_transform(X)\n",
    "\n",
    "# Use cross-validation\n",
    "cv = StratifiedKFold(n_splits=10, shuffle=True, random_state=42)\n",
    "scores = cross_val_score(model, X_rescaled, y, cv=cv)\n",
    "f1 = cross_val_score(model, X_rescaled, y, cv=cv, scoring='f1', error_score=0)\n",
    "\n",
    "# Print cross-validated accuracy\n",
    "print(f'Cross-validated accuracy: {np.mean(scores):.2f} (+/- {np.std(scores):.2f}) F1-Score: {np.mean(f1):.2f}')\n",
    "\n",
    "plot_cross_validated_confusion_matrix(X_rescaled, y, model, cv=cv, classes=labels, normalize=True)"
   ]
  }
 ],
 "metadata": {
  "colab": {
   "provenance": []
  },
  "kernelspec": {
   "display_name": "Python 3 (ipykernel)",
   "language": "python",
   "name": "python3"
  },
  "language_info": {
   "codemirror_mode": {
    "name": "ipython",
    "version": 3
   },
   "file_extension": ".py",
   "mimetype": "text/x-python",
   "name": "python",
   "nbconvert_exporter": "python",
   "pygments_lexer": "ipython3",
   "version": "3.10.11"
  }
 },
 "nbformat": 4,
 "nbformat_minor": 4
}
