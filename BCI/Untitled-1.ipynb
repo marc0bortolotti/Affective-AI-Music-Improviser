{
 "cells": [
  {
   "cell_type": "code",
   "execution_count": 1,
   "metadata": {},
   "outputs": [],
   "source": [
    "import pandas as pd\n",
    "import os\n",
    "from utils.loader import load_data, unicorn_fs\n",
    "import sys\n",
    "sys.path.append('../')\n",
    "unicorn_channels = [\"Fz\", \"C3\", \"Cz\", \"C4\", \"Pz\", \"PO7\", \"Oz\", \"PO8\"]"
   ]
  },
  {
   "cell_type": "code",
   "execution_count": 2,
   "metadata": {},
   "outputs": [
    {
     "name": "stdout",
     "output_type": "stream",
     "text": [
      "File saved as listening_reconstructed.csv\n",
      "File saved as playing_listening_reconstructed.csv\n"
     ]
    }
   ],
   "source": [
    "path_recording_1 = 'data/recordings/BCI-Ale/recording_6'\n",
    "path_recording_2 = 'data/recordings/BCI-Ale/dontstop'\n",
    "\n",
    "\n",
    "\n",
    "#------------------------------------------------------------------------------------\n",
    "\n",
    "recording_type = ['listening', 'playing_listening']\n",
    "\n",
    "\n",
    "for rec_type in recording_type:\n",
    "    \n",
    "    path_data_1 = os.path.join(path_recording_1, 'take_1', rec_type)\n",
    "    path_data_2 = os.path.join(path_recording_2, 'take_1', rec_type)\n",
    "\n",
    "\n",
    "    files = [f for f in os.listdir(path_data_1) if f.endswith('.csv')]\n",
    "    path_file_1 = os.path.join(path_data_1, files[0])\n",
    "\n",
    "    files = [f for f in os.listdir(path_data_2) if f.endswith('.csv')]\n",
    "    path_file_2 = os.path.join(path_data_2, files[0])\n",
    "\n",
    "    # Load data\n",
    "    skip_seconds = 5\n",
    "    eeg_1, trigger_1, df_1 = load_data(path_file_1, header=False, fs=unicorn_fs, skiprows=0, names = unicorn_channels)\n",
    "    eeg_2, trigger_2, df_2 = load_data(path_file_2, header=False, fs=unicorn_fs, skiprows=skip_seconds, names = unicorn_channels)\n",
    "\n",
    "    df_1.iloc[unicorn_fs*270:unicorn_fs*360] = df_2.iloc[:unicorn_fs*90]\n",
    "\n",
    "    df_1.to_csv(rec_type+'_reconstructed.csv', index=False, header=False)\n",
    "\n",
    "    print(f'File saved as {rec_type}_reconstructed.csv')\n"
   ]
  }
 ],
 "metadata": {
  "kernelspec": {
   "display_name": "Python 3",
   "language": "python",
   "name": "python3"
  },
  "language_info": {
   "codemirror_mode": {
    "name": "ipython",
    "version": 3
   },
   "file_extension": ".py",
   "mimetype": "text/x-python",
   "name": "python",
   "nbconvert_exporter": "python",
   "pygments_lexer": "ipython3",
   "version": "3.10.11"
  }
 },
 "nbformat": 4,
 "nbformat_minor": 2
}
