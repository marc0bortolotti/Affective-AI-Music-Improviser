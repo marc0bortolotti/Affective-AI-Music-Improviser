{
 "cells": [
  {
   "cell_type": "code",
   "execution_count": 1,
   "id": "initial_id",
   "metadata": {
    "ExecuteTime": {
     "end_time": "2024-10-14T09:05:02.027590Z",
     "start_time": "2024-10-14T09:04:24.137807Z"
    },
    "collapsed": true
   },
   "outputs": [
    {
     "name": "stdout",
     "output_type": "stream",
     "text": [
      "              Fz           C3             Cz             C4             Pz  \\\n",
      "0  656472.562500  750000.0625  548680.437500  338597.468750  543826.625000   \n",
      "1  245311.218750  721747.8750   -5735.726074 -576059.125000  750000.062500   \n",
      "2  125166.023438  649578.0000  -18569.740234 -599866.562500  750000.062500   \n",
      "3  276962.812500  658194.6250  187449.156250  -97709.226562  303487.812500   \n",
      "4  325688.968750  712552.5625  235800.359375 -163764.171875    3638.238281   \n",
      "\n",
      "             PO7           Oz            PO8      AccX      AccY      AccZ  \\\n",
      "0  626551.437500  750000.0625  750000.062500 -0.071777  0.967041  0.353027   \n",
      "1  308482.875000  671162.6875  750000.062500 -0.065430  0.979980  0.350586   \n",
      "2  247410.484375  556451.4375  513618.343750 -0.063477  0.980713  0.345215   \n",
      "3  294142.187500  535008.6875  279445.531250 -0.060791  0.980225  0.344727   \n",
      "4  402658.812500  513673.0625 -235630.046875 -0.061768  0.981689  0.347412   \n",
      "\n",
      "   GyroX  GyroY  GyroZ        CNT  BAT  VALID     DeltaTime  Trigger  \n",
      "0    0.0    0.0    0.0  93.333344  1.0    1.0  1.730735e+09      0.0  \n",
      "1    0.0    0.0    0.0  93.333344  2.0    1.0  1.730735e+09      0.0  \n",
      "2    0.0    0.0    0.0  93.333344  3.0    1.0  1.730735e+09      0.0  \n",
      "3    0.0    0.0    0.0  93.333344  4.0    1.0  1.730735e+09      0.0  \n",
      "4    0.0    0.0    0.0  93.333344  5.0    1.0  1.730735e+09      0.0  \n",
      "Recording duration: 9 minutes and 30 seconds\n",
      "Creating RawArray with float64 data, n_channels=8, n_times=142541\n",
      "    Range : 0 ... 142540 =      0.000 ...   570.160 secs\n",
      "Ready.\n",
      "Creating RawArray with float64 data, n_channels=1, n_times=142541\n",
      "    Range : 0 ... 142540 =      0.000 ...   570.160 secs\n",
      "Ready.\n"
     ]
    }
   ],
   "source": [
    "from processing import convert_to_mne\n",
    "import pandas as pd\n",
    "import matplotlib.pyplot as plt\n",
    "import matplotlib\n",
    "import numpy as np\n",
    "\n",
    "matplotlib.use(\"Qt5Agg\")\n",
    "\n",
    "path = '../runs/marco/test_0/pretraining.csv'\n",
    "\n",
    "rescale = 1e6\n",
    "fs = 250\n",
    "chs = [\"Fz\", \"C3\", \"Cz\", \"C4\", \"Pz\", \"PO7\", \"Oz\", \"PO8\"]\n",
    "columns = [\"Fz\", \"C3\", \"Cz\", \"C4\", \"Pz\", \"PO7\", \"Oz\", \"PO8\", \"AccX\", \"AccY\", \"AccZ\", \"GyroX\", \"GyroY\", \"GyroZ\",\n",
    "            \"CNT\", \"BAT\", \"VALID\", \"DeltaTime\", \"Trigger\"]\n",
    "\n",
    "data = pd.read_csv(filepath_or_buffer=path, names=columns, delimiter='\\t')\n",
    "\n",
    "print(data.head())\n",
    "\n",
    "minutes = len(data)/(60*fs)\n",
    "seconds = (len(data)/fs) % 60 \n",
    "print(f'Recording duration: {int(minutes)} minutes and {int(seconds)} seconds')\n",
    "\n",
    "trigger = data.iloc[1:, -1].to_numpy(dtype=np.float64)\n",
    "eeg = data.iloc[1:, 0:8].to_numpy(dtype=np.float64)\n",
    "raw_data = convert_to_mne(eeg, trigger, rescale=rescale, fs=fs, chs=chs, recompute=False)"
   ]
  },
  {
   "cell_type": "code",
   "execution_count": 2,
   "id": "bb2faf1f51f01f9",
   "metadata": {
    "ExecuteTime": {
     "end_time": "2024-10-14T09:10:44.532398Z",
     "start_time": "2024-10-14T09:05:36.516963Z"
    }
   },
   "outputs": [
    {
     "name": "stdout",
     "output_type": "stream",
     "text": [
      "Effective window size : 8.192 (s)\n"
     ]
    }
   ],
   "source": [
    "# Compute PSD\n",
    "Pxx = raw_data.compute_psd(fmin=0, fmax=fs/2)\n",
    "Pxx.plot()\n",
    "plt.show()"
   ]
  },
  {
   "cell_type": "code",
   "execution_count": 3,
   "id": "52d3a637eaa30dc5",
   "metadata": {
    "ExecuteTime": {
     "end_time": "2024-10-14T09:16:06.198695Z",
     "start_time": "2024-10-14T09:16:03.764242Z"
    }
   },
   "outputs": [
    {
     "name": "stdout",
     "output_type": "stream",
     "text": [
      "Filtering raw data in 1 contiguous segment\n",
      "Setting up band-stop filter from 49 - 51 Hz\n",
      "\n",
      "FIR filter parameters\n",
      "---------------------\n",
      "Designing a one-pass, zero-phase, non-causal bandstop filter:\n",
      "- Windowed time-domain design (firwin) method\n",
      "- Hamming window with 0.0194 passband ripple and 53 dB stopband attenuation\n",
      "- Lower passband edge: 49.38\n",
      "- Lower transition bandwidth: 0.50 Hz (-6 dB cutoff frequency: 49.12 Hz)\n",
      "- Upper passband edge: 50.62 Hz\n",
      "- Upper transition bandwidth: 0.50 Hz (-6 dB cutoff frequency: 50.88 Hz)\n",
      "- Filter length: 1651 samples (6.604 s)\n",
      "\n",
      "Filtering raw data in 1 contiguous segment\n",
      "Setting up band-stop filter from 59 - 61 Hz\n",
      "\n",
      "FIR filter parameters\n",
      "---------------------\n",
      "Designing a one-pass, zero-phase, non-causal bandstop filter:\n",
      "- Windowed time-domain design (firwin) method\n",
      "- Hamming window with 0.0194 passband ripple and 53 dB stopband attenuation\n",
      "- Lower passband edge: 59.35\n",
      "- Lower transition bandwidth: 0.50 Hz (-6 dB cutoff frequency: 59.10 Hz)\n",
      "- Upper passband edge: 60.65 Hz\n",
      "- Upper transition bandwidth: 0.50 Hz (-6 dB cutoff frequency: 60.90 Hz)\n",
      "- Filter length: 1651 samples (6.604 s)\n",
      "\n",
      "Filtering raw data in 1 contiguous segment\n",
      "Setting up band-pass filter from 1 - 30 Hz\n",
      "\n",
      "FIR filter parameters\n",
      "---------------------\n",
      "Designing a one-pass, zero-phase, non-causal bandpass filter:\n",
      "- Windowed time-domain design (firwin) method\n",
      "- Hamming window with 0.0194 passband ripple and 53 dB stopband attenuation\n",
      "- Lower passband edge: 1.00\n",
      "- Lower transition bandwidth: 1.00 Hz (-6 dB cutoff frequency: 0.50 Hz)\n",
      "- Upper passband edge: 30.00 Hz\n",
      "- Upper transition bandwidth: 7.50 Hz (-6 dB cutoff frequency: 33.75 Hz)\n",
      "- Filter length: 825 samples (3.300 s)\n",
      "\n",
      "Effective window size : 8.192 (s)\n"
     ]
    }
   ],
   "source": [
    "filtered = raw_data.copy() # the method filters the signal in-place, so this time I\n",
    "                      # want to preserve the original signal and filter just a\n",
    "                      # temporary copy of it\n",
    "\n",
    "# remove power line noise\n",
    "filtered.notch_filter(50) \n",
    "filtered.notch_filter(60) \n",
    "# Apply band-pass filtering\n",
    "filtered.filter(1,30) \n",
    "\n",
    "pxx_filt = filtered.compute_psd(fmin=0, fmax=50)\n",
    "pxx_filt.plot()\n",
    "plt.show()"
   ]
  },
  {
   "cell_type": "code",
   "execution_count": 4,
   "id": "11a85a452cc7c270",
   "metadata": {
    "ExecuteTime": {
     "end_time": "2024-10-14T09:16:18.434470Z",
     "start_time": "2024-10-14T09:16:10.415725Z"
    }
   },
   "outputs": [
    {
     "name": "stdout",
     "output_type": "stream",
     "text": [
      "Using matplotlib as 2D backend.\n",
      "Channels marked as bad:\n",
      "none\n"
     ]
    }
   ],
   "source": [
    "filtered.plot()\n",
    "plt.show()"
   ]
  },
  {
   "cell_type": "markdown",
   "id": "93b2a92c",
   "metadata": {},
   "source": [
    "### Channels Interpolation\n",
    "Previously marked bad channels can be interpolated"
   ]
  },
  {
   "cell_type": "code",
   "execution_count": 7,
   "id": "23e74840",
   "metadata": {},
   "outputs": [
    {
     "name": "stdout",
     "output_type": "stream",
     "text": [
      "Setting channel interpolation method to {'eeg': 'spline'}.\n"
     ]
    },
    {
     "name": "stderr",
     "output_type": "stream",
     "text": [
      "C:\\Users\\Gianni\\AppData\\Local\\Temp\\ipykernel_41288\\3975301400.py:3: RuntimeWarning: No bad channels to interpolate. Doing nothing...\n",
      "  interp.interpolate_bads()\n"
     ]
    },
    {
     "name": "stdout",
     "output_type": "stream",
     "text": [
      "Channels marked as bad:\n",
      "none\n"
     ]
    }
   ],
   "source": [
    "## Interpolate bad channels\n",
    "interp = filtered.copy()\n",
    "interp.interpolate_bads()\n",
    "interp.plot()\n",
    "plt.show()"
   ]
  },
  {
   "cell_type": "markdown",
   "id": "3220c3b6",
   "metadata": {},
   "source": [
    "### Cleaning data using ASR\n",
    "Full example available: https://github.com/DiGyt/asrpy/blob/main/example.ipynb"
   ]
  },
  {
   "cell_type": "code",
   "execution_count": 6,
   "id": "57857477",
   "metadata": {},
   "outputs": [
    {
     "name": "stdout",
     "output_type": "stream",
     "text": [
      "Channels marked as bad:\n",
      "none\n"
     ]
    }
   ],
   "source": [
    "## take the first 30 seconds of the data\n",
    "training_data = interp.copy()\n",
    "training_data.crop(tmin=0, tmax=20)\n",
    "training_data.plot()\n",
    "plt.show()"
   ]
  },
  {
   "cell_type": "code",
   "execution_count": 8,
   "id": "be77c56f",
   "metadata": {},
   "outputs": [
    {
     "name": "stdout",
     "output_type": "stream",
     "text": [
      "Channels marked as bad:\n",
      "none\n"
     ]
    }
   ],
   "source": [
    "import asrpy\n",
    "\n",
    "asr = asrpy.ASR(sfreq=fs, cutoff=15)\n",
    "asr.fit(training_data)\n",
    "cleaned = asr.transform(interp)\n",
    "cleaned.plot()\n",
    "plt.show()"
   ]
  }
 ],
 "metadata": {
  "kernelspec": {
   "display_name": "Python 3",
   "language": "python",
   "name": "python3"
  },
  "language_info": {
   "codemirror_mode": {
    "name": "ipython",
    "version": 3
   },
   "file_extension": ".py",
   "mimetype": "text/x-python",
   "name": "python",
   "nbconvert_exporter": "python",
   "pygments_lexer": "ipython3",
   "version": "3.10.11"
  }
 },
 "nbformat": 4,
 "nbformat_minor": 5
}
