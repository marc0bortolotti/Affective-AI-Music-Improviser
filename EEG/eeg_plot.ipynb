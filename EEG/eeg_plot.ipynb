{
 "cells": [
  {
   "cell_type": "code",
   "execution_count": 39,
   "id": "initial_id",
   "metadata": {
    "ExecuteTime": {
     "end_time": "2024-10-14T09:05:02.027590Z",
     "start_time": "2024-10-14T09:04:24.137807Z"
    },
    "collapsed": true
   },
   "outputs": [
    {
     "name": "stdout",
     "output_type": "stream",
     "text": [
      "              Fz           C3             Cz             C4           Pz  \\\n",
      "0  105024.859375  549743.1250    6883.264648 -135281.703125  569073.5000   \n",
      "1 -103244.593750  502041.7500  -35517.011719 -116807.898438  558928.8125   \n",
      "2  117869.781250  582385.5625  143297.312500  -31326.507812  712523.3125   \n",
      "3  299057.250000  668572.8750  189050.968750 -152220.218750  708806.7500   \n",
      "4  356560.687500  698277.1875  136229.687500  316050.468750  712238.4375   \n",
      "\n",
      "             PO7             Oz            PO8      AccX      AccY      AccZ  \\\n",
      "0  179174.718750 -603728.062500  623638.625000  0.061279  1.030029 -0.094971   \n",
      "1  159696.609375  -48527.250000  374406.593750  0.061523  1.029541 -0.100586   \n",
      "2  191211.140625      18.596653  263378.125000  0.061279  1.030029 -0.103271   \n",
      "3  327121.468750     185.251266  127928.960938  0.062744  1.029053 -0.105225   \n",
      "4  634246.500000   30925.070312  267686.468750  0.062256  1.027100 -0.109131   \n",
      "\n",
      "      GyroX    GyroY     GyroZ        CNT  BAT  VALID     DeltaTime  Trigger  \n",
      "0  0.000000  0.00000  0.000000  66.666672  2.0    1.0  1.731604e+09      0.0  \n",
      "1  0.000000  0.00000  0.000000  66.666672  3.0    1.0  1.731604e+09      0.0  \n",
      "2  0.000000  0.00000  0.000000  66.666672  4.0    1.0  1.731604e+09      0.0  \n",
      "3  0.000000  0.00000  0.000000  66.666672  5.0    1.0  1.731604e+09      0.0  \n",
      "4  7.019042 -6.16455 -5.462646  66.666672  6.0    1.0  1.731604e+09      0.0  \n",
      "Recording duration: 3 minutes and 5 seconds\n",
      "[0. 6.]\n",
      "Creating RawArray with float64 data, n_channels=8, n_times=46275\n",
      "    Range : 0 ... 46274 =      0.000 ...   185.096 secs\n",
      "Ready.\n",
      "Creating RawArray with float64 data, n_channels=1, n_times=46275\n",
      "    Range : 0 ... 46274 =      0.000 ...   185.096 secs\n",
      "Ready.\n"
     ]
    }
   ],
   "source": [
    "from processing import convert_to_mne\n",
    "import pandas as pd\n",
    "import numpy as np\n",
    "import matplotlib\n",
    "import matplotlib.pyplot as plt\n",
    "\n",
    "matplotlib.use('Qt5Agg')\n",
    "\n",
    "path = '../runs/user_2/test_UTENTE_EEG_0/session.csv'\n",
    "\n",
    "rescale = 1e6\n",
    "fs = 250\n",
    "chs = [\"Fz\", \"C3\", \"Cz\", \"C4\", \"Pz\", \"PO7\", \"Oz\", \"PO8\"]\n",
    "columns = [\"Fz\", \"C3\", \"Cz\", \"C4\", \"Pz\", \"PO7\", \"Oz\", \"PO8\", \"AccX\", \"AccY\", \"AccZ\", \"GyroX\", \"GyroY\", \"GyroZ\",\n",
    "           \"CNT\", \"BAT\", \"VALID\", \"DeltaTime\", \"Trigger\"]\n",
    "\n",
    "if 'recordings' in path:\n",
    "    delimiter = ','\n",
    "else:\n",
    "    delimiter = '\\t'\n",
    "\n",
    "data = pd.read_csv(filepath_or_buffer=path, delimiter=delimiter)\n",
    "data.columns = columns[:data.shape[1]-1] + [columns[-1]]\n",
    "\n",
    "print(data.head())\n",
    "\n",
    "minutes = len(data)/(60*fs)\n",
    "seconds = (len(data)/fs) % 60 \n",
    "print(f'Recording duration: {int(minutes)} minutes and {int(seconds)} seconds')\n",
    "\n",
    "trigger = data.iloc[:, -1].to_numpy(dtype=np.float64)\n",
    "print(np.unique(trigger))\n",
    "\n",
    "eeg = data.iloc[:, 0:8].to_numpy(dtype=np.float64)\n",
    "\n",
    "raw_data = convert_to_mne(eeg, trigger, rescale=rescale, fs=fs, chs=chs, recompute=False)"
   ]
  },
  {
   "cell_type": "code",
   "execution_count": 40,
   "id": "bb2faf1f51f01f9",
   "metadata": {
    "ExecuteTime": {
     "end_time": "2024-10-14T09:10:44.532398Z",
     "start_time": "2024-10-14T09:05:36.516963Z"
    }
   },
   "outputs": [
    {
     "name": "stdout",
     "output_type": "stream",
     "text": [
      "Effective window size : 8.192 (s)\n"
     ]
    }
   ],
   "source": [
    "# Compute PSD\n",
    "Pxx = raw_data.compute_psd(fmin=0, fmax=fs/2)\n",
    "Pxx.plot()\n",
    "plt.show()"
   ]
  },
  {
   "cell_type": "code",
   "execution_count": 41,
   "id": "52d3a637eaa30dc5",
   "metadata": {
    "ExecuteTime": {
     "end_time": "2024-10-14T09:16:06.198695Z",
     "start_time": "2024-10-14T09:16:03.764242Z"
    }
   },
   "outputs": [
    {
     "name": "stdout",
     "output_type": "stream",
     "text": [
      "Filtering raw data in 1 contiguous segment\n",
      "Setting up band-stop filter from 49 - 51 Hz\n",
      "\n",
      "FIR filter parameters\n",
      "---------------------\n",
      "Designing a one-pass, zero-phase, non-causal bandstop filter:\n",
      "- Windowed time-domain design (firwin) method\n",
      "- Hamming window with 0.0194 passband ripple and 53 dB stopband attenuation\n",
      "- Lower passband edge: 49.38\n",
      "- Lower transition bandwidth: 0.50 Hz (-6 dB cutoff frequency: 49.12 Hz)\n",
      "- Upper passband edge: 50.62 Hz\n",
      "- Upper transition bandwidth: 0.50 Hz (-6 dB cutoff frequency: 50.88 Hz)\n",
      "- Filter length: 1651 samples (6.604 s)\n",
      "\n",
      "Filtering raw data in 1 contiguous segment\n",
      "Setting up band-stop filter from 59 - 61 Hz\n",
      "\n",
      "FIR filter parameters\n",
      "---------------------\n",
      "Designing a one-pass, zero-phase, non-causal bandstop filter:\n",
      "- Windowed time-domain design (firwin) method\n",
      "- Hamming window with 0.0194 passband ripple and 53 dB stopband attenuation\n",
      "- Lower passband edge: 59.35\n",
      "- Lower transition bandwidth: 0.50 Hz (-6 dB cutoff frequency: 59.10 Hz)\n",
      "- Upper passband edge: 60.65 Hz\n",
      "- Upper transition bandwidth: 0.50 Hz (-6 dB cutoff frequency: 60.90 Hz)\n",
      "- Filter length: 1651 samples (6.604 s)\n",
      "\n",
      "Filtering raw data in 1 contiguous segment\n",
      "Setting up band-pass filter from 1 - 30 Hz\n",
      "\n",
      "FIR filter parameters\n",
      "---------------------\n",
      "Designing a one-pass, zero-phase, non-causal bandpass filter:\n",
      "- Windowed time-domain design (firwin) method\n",
      "- Hamming window with 0.0194 passband ripple and 53 dB stopband attenuation\n",
      "- Lower passband edge: 1.00\n",
      "- Lower transition bandwidth: 1.00 Hz (-6 dB cutoff frequency: 0.50 Hz)\n",
      "- Upper passband edge: 30.00 Hz\n",
      "- Upper transition bandwidth: 7.50 Hz (-6 dB cutoff frequency: 33.75 Hz)\n",
      "- Filter length: 825 samples (3.300 s)\n",
      "\n",
      "Effective window size : 8.192 (s)\n"
     ]
    }
   ],
   "source": [
    "filtered = raw_data.copy() # the method filters the signal in-place, so this time I\n",
    "                      # want to preserve the original signal and filter just a\n",
    "                      # temporary copy of it\n",
    "\n",
    "# remove power line noise\n",
    "filtered.notch_filter(50) \n",
    "filtered.notch_filter(60) \n",
    "# Apply band-pass filtering\n",
    "filtered.filter(1,30) \n",
    "\n",
    "pxx_filt = filtered.compute_psd(fmin=0, fmax=50)\n",
    "pxx_filt.plot()\n",
    "plt.show()"
   ]
  },
  {
   "cell_type": "code",
   "execution_count": 42,
   "id": "11a85a452cc7c270",
   "metadata": {
    "ExecuteTime": {
     "end_time": "2024-10-14T09:16:18.434470Z",
     "start_time": "2024-10-14T09:16:10.415725Z"
    }
   },
   "outputs": [
    {
     "name": "stdout",
     "output_type": "stream",
     "text": [
      "Channels marked as bad:\n",
      "none\n"
     ]
    }
   ],
   "source": [
    "filtered.plot()\n",
    "plt.show()"
   ]
  },
  {
   "cell_type": "markdown",
   "id": "93b2a92c",
   "metadata": {},
   "source": [
    "### Channels Interpolation\n",
    "Previously marked bad channels can be interpolated"
   ]
  },
  {
   "cell_type": "code",
   "execution_count": 32,
   "id": "23e74840",
   "metadata": {},
   "outputs": [
    {
     "name": "stdout",
     "output_type": "stream",
     "text": [
      "[]\n",
      "Setting channel interpolation method to {'eeg': 'spline'}.\n"
     ]
    },
    {
     "name": "stderr",
     "output_type": "stream",
     "text": [
      "C:\\Users\\Gianni\\AppData\\Local\\Temp\\ipykernel_10712\\2769900535.py:7: RuntimeWarning: No bad channels to interpolate. Doing nothing...\n",
      "  interp.interpolate_bads()\n"
     ]
    },
    {
     "name": "stdout",
     "output_type": "stream",
     "text": [
      "Channels marked as bad:\n",
      "none\n"
     ]
    }
   ],
   "source": [
    "## Interpolate bad channels\n",
    "interp = filtered.copy()\n",
    "\n",
    "# Mark the bad channels in the raw data\n",
    "print(interp.info['bads'])\n",
    "\n",
    "interp.interpolate_bads()\n",
    "interp.plot()\n",
    "plt.show()"
   ]
  },
  {
   "cell_type": "markdown",
   "id": "3220c3b6",
   "metadata": {},
   "source": [
    "### Cleaning data using ASR\n",
    "Full example available: https://github.com/DiGyt/asrpy/blob/main/example.ipynb"
   ]
  },
  {
   "cell_type": "code",
   "execution_count": 33,
   "id": "57857477",
   "metadata": {},
   "outputs": [
    {
     "name": "stdout",
     "output_type": "stream",
     "text": [
      "Channels marked as bad:\n",
      "none\n"
     ]
    }
   ],
   "source": [
    "## take the first 30 seconds of the data\n",
    "training_data = interp.copy()\n",
    "training_data.crop(tmin=5, tmax=65)\n",
    "training_data.plot()\n",
    "plt.show()"
   ]
  },
  {
   "cell_type": "code",
   "execution_count": 35,
   "id": "be77c56f",
   "metadata": {},
   "outputs": [
    {
     "name": "stdout",
     "output_type": "stream",
     "text": [
      "Channels marked as bad:\n",
      "none\n"
     ]
    }
   ],
   "source": [
    "import asrpy\n",
    "\n",
    "asr = asrpy.ASR(sfreq=fs, cutoff=15)\n",
    "asr.fit(training_data)\n",
    "cleaned = asr.transform(interp)\n",
    "cleaned.plot()\n",
    "plt.show()"
   ]
  }
 ],
 "metadata": {
  "kernelspec": {
   "display_name": "Python 3",
   "language": "python",
   "name": "python3"
  },
  "language_info": {
   "codemirror_mode": {
    "name": "ipython",
    "version": 3
   },
   "file_extension": ".py",
   "mimetype": "text/x-python",
   "name": "python",
   "nbconvert_exporter": "python",
   "pygments_lexer": "ipython3",
   "version": "3.10.11"
  }
 },
 "nbformat": 4,
 "nbformat_minor": 5
}
